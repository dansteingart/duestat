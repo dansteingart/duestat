{
 "cells": [
  {
   "cell_type": "code",
   "execution_count": 4,
   "metadata": {},
   "outputs": [],
   "source": [
    "import pandas as pd"
   ]
  },
  {
   "cell_type": "code",
   "execution_count": 2,
   "metadata": {},
   "outputs": [],
   "source": [
    "import sys"
   ]
  },
  {
   "cell_type": "code",
   "execution_count": 3,
   "metadata": {},
   "outputs": [
    {
     "data": {
      "text/plain": [
       "sys.version_info(major=3, minor=7, micro=7, releaselevel='final', serial=0)"
      ]
     },
     "execution_count": 3,
     "metadata": {},
     "output_type": "execute_result"
    }
   ],
   "source": [
    "sys.version_info"
   ]
  },
  {
   "cell_type": "code",
   "execution_count": 5,
   "metadata": {},
   "outputs": [],
   "source": [
    "df = pd.read_csv('sweep_test.csv')"
   ]
  },
  {
   "cell_type": "code",
   "execution_count": 6,
   "metadata": {},
   "outputs": [
    {
     "data": {
      "text/html": [
       "<div>\n",
       "<style scoped>\n",
       "    .dataframe tbody tr th:only-of-type {\n",
       "        vertical-align: middle;\n",
       "    }\n",
       "\n",
       "    .dataframe tbody tr th {\n",
       "        vertical-align: top;\n",
       "    }\n",
       "\n",
       "    .dataframe thead th {\n",
       "        text-align: right;\n",
       "    }\n",
       "</style>\n",
       "<table border=\"1\" class=\"dataframe\">\n",
       "  <thead>\n",
       "    <tr style=\"text-align: right;\">\n",
       "      <th></th>\n",
       "      <th></th>\n",
       "      <th>time</th>\n",
       "      <th>dt</th>\n",
       "      <th>V1</th>\n",
       "      <th>V2</th>\n",
       "      <th>OS</th>\n",
       "      <th>dts</th>\n",
       "    </tr>\n",
       "  </thead>\n",
       "  <tbody>\n",
       "    <tr>\n",
       "      <th>1587004974835</th>\n",
       "      <th>5073.0</th>\n",
       "      <td>2.053235</td>\n",
       "      <td>2.057666</td>\n",
       "      <td>0.017725</td>\n",
       "      <td>1.639124</td>\n",
       "      <td>39.0</td>\n",
       "      <td>536.0</td>\n",
       "    </tr>\n",
       "    <tr>\n",
       "      <th>1587004974839</th>\n",
       "      <th>5026.0</th>\n",
       "      <td>2.053033</td>\n",
       "      <td>2.056860</td>\n",
       "      <td>0.017725</td>\n",
       "      <td>1.637311</td>\n",
       "      <td>41.0</td>\n",
       "      <td>589.0</td>\n",
       "    </tr>\n",
       "    <tr>\n",
       "      <th>1587004974843</th>\n",
       "      <th>5077.0</th>\n",
       "      <td>2.053839</td>\n",
       "      <td>2.057666</td>\n",
       "      <td>0.017725</td>\n",
       "      <td>1.639124</td>\n",
       "      <td>41.0</td>\n",
       "      <td>531.0</td>\n",
       "    </tr>\n",
       "    <tr>\n",
       "      <th>1587004974848</th>\n",
       "      <th>5019.0</th>\n",
       "      <td>2.052429</td>\n",
       "      <td>2.056055</td>\n",
       "      <td>0.017725</td>\n",
       "      <td>1.639526</td>\n",
       "      <td>41.0</td>\n",
       "      <td>530.0</td>\n",
       "    </tr>\n",
       "    <tr>\n",
       "      <th>1587004974853</th>\n",
       "      <th>5015.0</th>\n",
       "      <td>2.053235</td>\n",
       "      <td>2.056458</td>\n",
       "      <td>0.017926</td>\n",
       "      <td>1.639124</td>\n",
       "      <td>41.0</td>\n",
       "      <td>558.0</td>\n",
       "    </tr>\n",
       "    <tr>\n",
       "      <th>...</th>\n",
       "      <th>...</th>\n",
       "      <td>...</td>\n",
       "      <td>...</td>\n",
       "      <td>...</td>\n",
       "      <td>...</td>\n",
       "      <td>...</td>\n",
       "      <td>...</td>\n",
       "    </tr>\n",
       "    <tr>\n",
       "      <th>1587128610258</th>\n",
       "      <th>5036.0</th>\n",
       "      <td>1.807709</td>\n",
       "      <td>1.625629</td>\n",
       "      <td>0.022961</td>\n",
       "      <td>1.641541</td>\n",
       "      <td>40.0</td>\n",
       "      <td>647.0</td>\n",
       "    </tr>\n",
       "    <tr>\n",
       "      <th>1587128610263</th>\n",
       "      <th>5025.0</th>\n",
       "      <td>1.834698</td>\n",
       "      <td>1.628046</td>\n",
       "      <td>0.023163</td>\n",
       "      <td>1.641742</td>\n",
       "      <td>40.0</td>\n",
       "      <td>612.0</td>\n",
       "    </tr>\n",
       "    <tr>\n",
       "      <th>1587128610268</th>\n",
       "      <th>5100.0</th>\n",
       "      <td>1.861890</td>\n",
       "      <td>1.629858</td>\n",
       "      <td>0.022760</td>\n",
       "      <td>1.642950</td>\n",
       "      <td>41.0</td>\n",
       "      <td>642.0</td>\n",
       "    </tr>\n",
       "    <tr>\n",
       "      <th>1587128610274</th>\n",
       "      <th>5017.0</th>\n",
       "      <td>1.886664</td>\n",
       "      <td>1.632678</td>\n",
       "      <td>0.023163</td>\n",
       "      <td>1.643353</td>\n",
       "      <td>40.0</td>\n",
       "      <td>695.0</td>\n",
       "    </tr>\n",
       "    <tr>\n",
       "      <th>1587128610279</th>\n",
       "      <th>5077.0</th>\n",
       "      <td>1.913855</td>\n",
       "      <td>1.634692</td>\n",
       "      <td>0.023163</td>\n",
       "      <td>1.643555</td>\n",
       "      <td>40.0</td>\n",
       "      <td>663.0</td>\n",
       "    </tr>\n",
       "  </tbody>\n",
       "</table>\n",
       "<p>24432046 rows × 6 columns</p>\n",
       "</div>"
      ],
      "text/plain": [
       "                          time        dt        V1        V2    OS    dts\n",
       "1587004974835 5073.0  2.053235  2.057666  0.017725  1.639124  39.0  536.0\n",
       "1587004974839 5026.0  2.053033  2.056860  0.017725  1.637311  41.0  589.0\n",
       "1587004974843 5077.0  2.053839  2.057666  0.017725  1.639124  41.0  531.0\n",
       "1587004974848 5019.0  2.052429  2.056055  0.017725  1.639526  41.0  530.0\n",
       "1587004974853 5015.0  2.053235  2.056458  0.017926  1.639124  41.0  558.0\n",
       "...                        ...       ...       ...       ...   ...    ...\n",
       "1587128610258 5036.0  1.807709  1.625629  0.022961  1.641541  40.0  647.0\n",
       "1587128610263 5025.0  1.834698  1.628046  0.023163  1.641742  40.0  612.0\n",
       "1587128610268 5100.0  1.861890  1.629858  0.022760  1.642950  41.0  642.0\n",
       "1587128610274 5017.0  1.886664  1.632678  0.023163  1.643353  40.0  695.0\n",
       "1587128610279 5077.0  1.913855  1.634692  0.023163  1.643555  40.0  663.0\n",
       "\n",
       "[24432046 rows x 6 columns]"
      ]
     },
     "execution_count": 6,
     "metadata": {},
     "output_type": "execute_result"
    }
   ],
   "source": [
    "df"
   ]
  },
  {
   "cell_type": "code",
   "execution_count": 11,
   "metadata": {},
   "outputs": [],
   "source": [
    "d2 = df.iloc[:int(24432046/10)]"
   ]
  },
  {
   "cell_type": "code",
   "execution_count": 12,
   "metadata": {},
   "outputs": [
    {
     "data": {
      "text/plain": [
       "2443204"
      ]
     },
     "execution_count": 12,
     "metadata": {},
     "output_type": "execute_result"
    }
   ],
   "source": [
    "len(d2)"
   ]
  },
  {
   "cell_type": "code",
   "execution_count": null,
   "metadata": {},
   "outputs": [],
   "source": [
    "ope"
   ]
  }
 ],
 "metadata": {
  "kernelspec": {
   "display_name": "Python 3",
   "language": "python",
   "name": "python3"
  },
  "language_info": {
   "codemirror_mode": {
    "name": "ipython",
    "version": 3
   },
   "file_extension": ".py",
   "mimetype": "text/x-python",
   "name": "python",
   "nbconvert_exporter": "python",
   "pygments_lexer": "ipython3",
   "version": "3.7.7"
  }
 },
 "nbformat": 4,
 "nbformat_minor": 4
}
